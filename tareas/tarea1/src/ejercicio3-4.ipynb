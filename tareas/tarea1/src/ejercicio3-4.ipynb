{
 "cells": [
  {
   "cell_type": "markdown",
   "metadata": {},
   "source": [
    "# Métodos numéricos"
   ]
  },
  {
   "cell_type": "markdown",
   "metadata": {},
   "source": [
    "## Ejercicio 3."
   ]
  },
  {
   "cell_type": "markdown",
   "metadata": {},
   "source": [
    "### Algoritmo de bisección"
   ]
  },
  {
   "cell_type": "code",
   "execution_count": 2,
   "metadata": {},
   "outputs": [
    {
     "data": {
      "text/plain": [
       "biseccion (generic function with 3 methods)"
      ]
     },
     "execution_count": 2,
     "metadata": {},
     "output_type": "execute_result"
    }
   ],
   "source": [
    "function biseccion(f::Function, a::Number, b::Number, \n",
    "                   toleranciaEpsilon::AbstractFloat = 1e-10, \n",
    "                   maxIteracion::Integer=100)\n",
    "    fa = f(a)\n",
    "    fa * f(b) <= 0 || error(\"No existen raíces reales en [a, b].\")\n",
    "    for i = 1:maxIteracion\n",
    "        p = (a + b)/2 # El punto medio de [a, b].\n",
    "        fp = f(p)\n",
    "        # La raíz se encuentra en la mitad derecha (ó izquierda) de [a, b].\n",
    "        fp * fa > 0 ? a = p : b = p \n",
    "\n",
    "        if (abs(fp) < toleranciaEpsilon) | ((b - a) < toleranciaEpsilon)\n",
    "            return p\n",
    "        end\n",
    "    end\n",
    "    \n",
    "    error(\"El número de iteraciones fue excedido.\")\n",
    "end"
   ]
  },
  {
   "cell_type": "code",
   "execution_count": 3,
   "metadata": {},
   "outputs": [
    {
     "name": "stdout",
     "output_type": "stream",
     "text": [
      "The resultado es : 1.324717957235407\n"
     ]
    }
   ],
   "source": [
    "# Probamos nuestro algoritmo.\n",
    "entrada = biseccion(x -> x^3-x-1, 1, 2)\n",
    "resultado = string(entrada)\n",
    "println(\"The resultado es : $resultado\")"
   ]
  },
  {
   "cell_type": "markdown",
   "metadata": {},
   "source": [
    "### Algoritmo de Newton"
   ]
  },
  {
   "cell_type": "code",
   "execution_count": 4,
   "metadata": {},
   "outputs": [
    {
     "data": {
      "text/plain": [
       "newton (generic function with 2 methods)"
      ]
     },
     "execution_count": 4,
     "metadata": {},
     "output_type": "execute_result"
    }
   ],
   "source": [
    "function newton(f::Function, dxf::Function, x0::Number, args::Tuple=();\n",
    "                        toleranciaEpsilon::AbstractFloat=1e-8, \n",
    "                        maxIteracion::Integer=50, epsilon::AbstractFloat=1e-10)\n",
    "    for i=1:maxIteracion\n",
    "        yPrima = dxf(x0, args...)\n",
    "        if abs(yPrima) < epsilon\n",
    "            error(\"La primer derivada es cero.\")\n",
    "        end\n",
    "        \n",
    "        y = f(x0, args...)\n",
    "        x = x0 - y/yPrima   # Calculamos xi.\n",
    "        \n",
    "        # El procedimiento fue completado satisfactoriamente.\n",
    "        if abs(x - x0) < toleranciaEpsilon\n",
    "            return x\n",
    "        end\n",
    "        \n",
    "        x0 = x  # Redefinimos a x0.\n",
    "    end\n",
    "    \n",
    "    error(\"El número de iteraciones fue excedido.\")\n",
    "end"
   ]
  },
  {
   "cell_type": "code",
   "execution_count": 5,
   "metadata": {},
   "outputs": [
    {
     "name": "stdout",
     "output_type": "stream",
     "text": [
      "El resultado es: 1.324717957244746\n"
     ]
    }
   ],
   "source": [
    "# Probamos nuestro algoritmo.\n",
    "entrada = newton(x -> x^3-x-1, x -> 3x^2-1, 1)\n",
    "resultado = string(entrada)\n",
    "println(\"El resultado es: $resultado\")"
   ]
  },
  {
   "cell_type": "markdown",
   "metadata": {},
   "source": [
    "## Ejercicio 2."
   ]
  },
  {
   "cell_type": "markdown",
   "metadata": {},
   "source": [
    "Encontramos nuestro valor $x^*$ usándo el método de la **biseccion**."
   ]
  },
  {
   "cell_type": "code",
   "execution_count": 16,
   "metadata": {},
   "outputs": [
    {
     "name": "stdout",
     "output_type": "stream",
     "text": [
      "The resultado es : 0.7390851331874728\n"
     ]
    }
   ],
   "source": [
    "entrada1 = biseccion(x -> cos(x)-x, 0.5, 1)\n",
    "resultado = string(entrada1)\n",
    "println(\"The resultado es : $resultado\")"
   ]
  },
  {
   "cell_type": "code",
   "execution_count": 17,
   "metadata": {},
   "outputs": [
    {
     "name": "stdout",
     "output_type": "stream",
     "text": [
      "El resultado es: 1.6180339887505397\n"
     ]
    }
   ],
   "source": [
    "entrada2 = biseccion(x -> x^2-x-1, 1, 2)\n",
    "resultado = string(entrada2)\n",
    "println(\"El resultado es: $resultado\")"
   ]
  },
  {
   "cell_type": "markdown",
   "metadata": {},
   "source": [
    "Comprobamos los resultados usando el método de **newton**."
   ]
  },
  {
   "cell_type": "code",
   "execution_count": 18,
   "metadata": {},
   "outputs": [
    {
     "name": "stdout",
     "output_type": "stream",
     "text": [
      "El resultado es: 0.7390851332151607\n"
     ]
    }
   ],
   "source": [
    "entrada3 = newton(x -> cos(x)-x, x -> -sin(x)-1, 1)\n",
    "resultado = string(entrada3)\n",
    "println(\"El resultado es: $resultado\")"
   ]
  },
  {
   "cell_type": "code",
   "execution_count": 19,
   "metadata": {},
   "outputs": [
    {
     "name": "stdout",
     "output_type": "stream",
     "text": [
      "El resultado es: 1.618033988749895\n"
     ]
    }
   ],
   "source": [
    "entrada4 = newton(x -> x^2-x-1, x -> 2x-1, 2)\n",
    "resultado = string(entrada4)\n",
    "println(\"El resultado es: $resultado\")"
   ]
  }
 ],
 "metadata": {
  "kernelspec": {
   "display_name": "Julia 1.5.3",
   "language": "julia",
   "name": "julia-1.5"
  },
  "language_info": {
   "file_extension": ".jl",
   "mimetype": "application/julia",
   "name": "julia",
   "version": "1.5.3"
  }
 },
 "nbformat": 4,
 "nbformat_minor": 4
}
