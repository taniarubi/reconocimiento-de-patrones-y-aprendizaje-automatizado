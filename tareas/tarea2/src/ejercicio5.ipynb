{
 "cells": [
  {
   "cell_type": "markdown",
   "metadata": {},
   "source": [
    "# Mortalidad en accidentes de tránsito"
   ]
  },
  {
   "cell_type": "code",
   "execution_count": 1,
   "metadata": {},
   "outputs": [],
   "source": [
    "# Tratamiento de datos\n",
    "import pandas as pd\n",
    "import numpy as np\n",
    "import seaborn as sn\n",
    "\n",
    "# Gráficos\n",
    "import matplotlib.pyplot as plt\n",
    "\n",
    "# Preprocesado y modelado\n",
    "from sklearn.preprocessing import StandardScaler\n",
    "from sklearn.model_selection import train_test_split\n",
    "from sklearn.linear_model import LinearRegression\n",
    "from sklearn.metrics import r2_score\n",
    "from sklearn.metrics import mean_squared_error\n",
    "from sklearn.metrics import mean_absolute_error"
   ]
  },
  {
   "cell_type": "markdown",
   "metadata": {},
   "source": [
    "Leemos el conjunto de datos."
   ]
  },
  {
   "cell_type": "code",
   "execution_count": 2,
   "metadata": {},
   "outputs": [],
   "source": [
    "df = pd.read_csv(\"dataset/seatbelts.csv\") "
   ]
  },
  {
   "cell_type": "markdown",
   "metadata": {},
   "source": [
    "Visualizamos nuestro conjunto de datos."
   ]
  },
  {
   "cell_type": "code",
   "execution_count": 3,
   "metadata": {},
   "outputs": [
    {
     "data": {
      "text/html": [
       "<div>\n",
       "<style scoped>\n",
       "    .dataframe tbody tr th:only-of-type {\n",
       "        vertical-align: middle;\n",
       "    }\n",
       "\n",
       "    .dataframe tbody tr th {\n",
       "        vertical-align: top;\n",
       "    }\n",
       "\n",
       "    .dataframe thead th {\n",
       "        text-align: right;\n",
       "    }\n",
       "</style>\n",
       "<table border=\"1\" class=\"dataframe\">\n",
       "  <thead>\n",
       "    <tr style=\"text-align: right;\">\n",
       "      <th></th>\n",
       "      <th>DriversKilled</th>\n",
       "      <th>drivers</th>\n",
       "      <th>front</th>\n",
       "      <th>rear</th>\n",
       "      <th>kms</th>\n",
       "      <th>PetrolPrice</th>\n",
       "      <th>VanKilled</th>\n",
       "      <th>law</th>\n",
       "    </tr>\n",
       "  </thead>\n",
       "  <tbody>\n",
       "    <tr>\n",
       "      <th>0</th>\n",
       "      <td>107</td>\n",
       "      <td>1687</td>\n",
       "      <td>867</td>\n",
       "      <td>269</td>\n",
       "      <td>9059</td>\n",
       "      <td>0.102972</td>\n",
       "      <td>12</td>\n",
       "      <td>0</td>\n",
       "    </tr>\n",
       "    <tr>\n",
       "      <th>1</th>\n",
       "      <td>97</td>\n",
       "      <td>1508</td>\n",
       "      <td>825</td>\n",
       "      <td>265</td>\n",
       "      <td>7685</td>\n",
       "      <td>0.102363</td>\n",
       "      <td>6</td>\n",
       "      <td>0</td>\n",
       "    </tr>\n",
       "    <tr>\n",
       "      <th>2</th>\n",
       "      <td>102</td>\n",
       "      <td>1507</td>\n",
       "      <td>806</td>\n",
       "      <td>319</td>\n",
       "      <td>9963</td>\n",
       "      <td>0.102062</td>\n",
       "      <td>12</td>\n",
       "      <td>0</td>\n",
       "    </tr>\n",
       "    <tr>\n",
       "      <th>3</th>\n",
       "      <td>87</td>\n",
       "      <td>1385</td>\n",
       "      <td>814</td>\n",
       "      <td>407</td>\n",
       "      <td>10955</td>\n",
       "      <td>0.100873</td>\n",
       "      <td>8</td>\n",
       "      <td>0</td>\n",
       "    </tr>\n",
       "    <tr>\n",
       "      <th>4</th>\n",
       "      <td>119</td>\n",
       "      <td>1632</td>\n",
       "      <td>991</td>\n",
       "      <td>454</td>\n",
       "      <td>11823</td>\n",
       "      <td>0.101020</td>\n",
       "      <td>10</td>\n",
       "      <td>0</td>\n",
       "    </tr>\n",
       "    <tr>\n",
       "      <th>...</th>\n",
       "      <td>...</td>\n",
       "      <td>...</td>\n",
       "      <td>...</td>\n",
       "      <td>...</td>\n",
       "      <td>...</td>\n",
       "      <td>...</td>\n",
       "      <td>...</td>\n",
       "      <td>...</td>\n",
       "    </tr>\n",
       "    <tr>\n",
       "      <th>187</th>\n",
       "      <td>96</td>\n",
       "      <td>1284</td>\n",
       "      <td>644</td>\n",
       "      <td>521</td>\n",
       "      <td>21626</td>\n",
       "      <td>0.114797</td>\n",
       "      <td>5</td>\n",
       "      <td>1</td>\n",
       "    </tr>\n",
       "    <tr>\n",
       "      <th>188</th>\n",
       "      <td>122</td>\n",
       "      <td>1444</td>\n",
       "      <td>643</td>\n",
       "      <td>429</td>\n",
       "      <td>20195</td>\n",
       "      <td>0.114093</td>\n",
       "      <td>7</td>\n",
       "      <td>1</td>\n",
       "    </tr>\n",
       "    <tr>\n",
       "      <th>189</th>\n",
       "      <td>120</td>\n",
       "      <td>1575</td>\n",
       "      <td>641</td>\n",
       "      <td>408</td>\n",
       "      <td>19928</td>\n",
       "      <td>0.116466</td>\n",
       "      <td>7</td>\n",
       "      <td>1</td>\n",
       "    </tr>\n",
       "    <tr>\n",
       "      <th>190</th>\n",
       "      <td>137</td>\n",
       "      <td>1737</td>\n",
       "      <td>711</td>\n",
       "      <td>490</td>\n",
       "      <td>18564</td>\n",
       "      <td>0.116026</td>\n",
       "      <td>4</td>\n",
       "      <td>1</td>\n",
       "    </tr>\n",
       "    <tr>\n",
       "      <th>191</th>\n",
       "      <td>154</td>\n",
       "      <td>1763</td>\n",
       "      <td>721</td>\n",
       "      <td>491</td>\n",
       "      <td>18149</td>\n",
       "      <td>0.116067</td>\n",
       "      <td>7</td>\n",
       "      <td>1</td>\n",
       "    </tr>\n",
       "  </tbody>\n",
       "</table>\n",
       "<p>192 rows × 8 columns</p>\n",
       "</div>"
      ],
      "text/plain": [
       "     DriversKilled  drivers  front  rear    kms  PetrolPrice  VanKilled  law\n",
       "0              107     1687    867   269   9059     0.102972         12    0\n",
       "1               97     1508    825   265   7685     0.102363          6    0\n",
       "2              102     1507    806   319   9963     0.102062         12    0\n",
       "3               87     1385    814   407  10955     0.100873          8    0\n",
       "4              119     1632    991   454  11823     0.101020         10    0\n",
       "..             ...      ...    ...   ...    ...          ...        ...  ...\n",
       "187             96     1284    644   521  21626     0.114797          5    1\n",
       "188            122     1444    643   429  20195     0.114093          7    1\n",
       "189            120     1575    641   408  19928     0.116466          7    1\n",
       "190            137     1737    711   490  18564     0.116026          4    1\n",
       "191            154     1763    721   491  18149     0.116067          7    1\n",
       "\n",
       "[192 rows x 8 columns]"
      ]
     },
     "execution_count": 3,
     "metadata": {},
     "output_type": "execute_result"
    }
   ],
   "source": [
    "df"
   ]
  },
  {
   "cell_type": "code",
   "execution_count": 4,
   "metadata": {},
   "outputs": [
    {
     "data": {
      "text/html": [
       "<div>\n",
       "<style scoped>\n",
       "    .dataframe tbody tr th:only-of-type {\n",
       "        vertical-align: middle;\n",
       "    }\n",
       "\n",
       "    .dataframe tbody tr th {\n",
       "        vertical-align: top;\n",
       "    }\n",
       "\n",
       "    .dataframe thead th {\n",
       "        text-align: right;\n",
       "    }\n",
       "</style>\n",
       "<table border=\"1\" class=\"dataframe\">\n",
       "  <thead>\n",
       "    <tr style=\"text-align: right;\">\n",
       "      <th></th>\n",
       "      <th>DriversKilled</th>\n",
       "      <th>drivers</th>\n",
       "      <th>front</th>\n",
       "      <th>rear</th>\n",
       "      <th>kms</th>\n",
       "      <th>PetrolPrice</th>\n",
       "      <th>VanKilled</th>\n",
       "      <th>law</th>\n",
       "    </tr>\n",
       "  </thead>\n",
       "  <tbody>\n",
       "    <tr>\n",
       "      <th>count</th>\n",
       "      <td>192.000000</td>\n",
       "      <td>192.000000</td>\n",
       "      <td>192.000000</td>\n",
       "      <td>192.000000</td>\n",
       "      <td>192.000000</td>\n",
       "      <td>192.000000</td>\n",
       "      <td>192.000000</td>\n",
       "      <td>192.000000</td>\n",
       "    </tr>\n",
       "    <tr>\n",
       "      <th>mean</th>\n",
       "      <td>122.802083</td>\n",
       "      <td>1670.307292</td>\n",
       "      <td>837.218750</td>\n",
       "      <td>401.208333</td>\n",
       "      <td>14993.604167</td>\n",
       "      <td>0.103624</td>\n",
       "      <td>9.057292</td>\n",
       "      <td>0.119792</td>\n",
       "    </tr>\n",
       "    <tr>\n",
       "      <th>std</th>\n",
       "      <td>25.379886</td>\n",
       "      <td>289.610958</td>\n",
       "      <td>175.098967</td>\n",
       "      <td>83.102210</td>\n",
       "      <td>2938.049207</td>\n",
       "      <td>0.012176</td>\n",
       "      <td>3.636903</td>\n",
       "      <td>0.325567</td>\n",
       "    </tr>\n",
       "    <tr>\n",
       "      <th>min</th>\n",
       "      <td>60.000000</td>\n",
       "      <td>1057.000000</td>\n",
       "      <td>426.000000</td>\n",
       "      <td>224.000000</td>\n",
       "      <td>7685.000000</td>\n",
       "      <td>0.081179</td>\n",
       "      <td>2.000000</td>\n",
       "      <td>0.000000</td>\n",
       "    </tr>\n",
       "    <tr>\n",
       "      <th>25%</th>\n",
       "      <td>104.750000</td>\n",
       "      <td>1461.750000</td>\n",
       "      <td>715.500000</td>\n",
       "      <td>344.750000</td>\n",
       "      <td>12685.000000</td>\n",
       "      <td>0.092577</td>\n",
       "      <td>6.000000</td>\n",
       "      <td>0.000000</td>\n",
       "    </tr>\n",
       "    <tr>\n",
       "      <th>50%</th>\n",
       "      <td>118.500000</td>\n",
       "      <td>1631.000000</td>\n",
       "      <td>828.500000</td>\n",
       "      <td>401.500000</td>\n",
       "      <td>14987.000000</td>\n",
       "      <td>0.104477</td>\n",
       "      <td>8.000000</td>\n",
       "      <td>0.000000</td>\n",
       "    </tr>\n",
       "    <tr>\n",
       "      <th>75%</th>\n",
       "      <td>138.000000</td>\n",
       "      <td>1850.750000</td>\n",
       "      <td>950.750000</td>\n",
       "      <td>456.250000</td>\n",
       "      <td>17202.500000</td>\n",
       "      <td>0.114056</td>\n",
       "      <td>12.000000</td>\n",
       "      <td>0.000000</td>\n",
       "    </tr>\n",
       "    <tr>\n",
       "      <th>max</th>\n",
       "      <td>198.000000</td>\n",
       "      <td>2654.000000</td>\n",
       "      <td>1299.000000</td>\n",
       "      <td>646.000000</td>\n",
       "      <td>21626.000000</td>\n",
       "      <td>0.133027</td>\n",
       "      <td>17.000000</td>\n",
       "      <td>1.000000</td>\n",
       "    </tr>\n",
       "  </tbody>\n",
       "</table>\n",
       "</div>"
      ],
      "text/plain": [
       "       DriversKilled      drivers        front        rear           kms  \\\n",
       "count     192.000000   192.000000   192.000000  192.000000    192.000000   \n",
       "mean      122.802083  1670.307292   837.218750  401.208333  14993.604167   \n",
       "std        25.379886   289.610958   175.098967   83.102210   2938.049207   \n",
       "min        60.000000  1057.000000   426.000000  224.000000   7685.000000   \n",
       "25%       104.750000  1461.750000   715.500000  344.750000  12685.000000   \n",
       "50%       118.500000  1631.000000   828.500000  401.500000  14987.000000   \n",
       "75%       138.000000  1850.750000   950.750000  456.250000  17202.500000   \n",
       "max       198.000000  2654.000000  1299.000000  646.000000  21626.000000   \n",
       "\n",
       "       PetrolPrice   VanKilled         law  \n",
       "count   192.000000  192.000000  192.000000  \n",
       "mean      0.103624    9.057292    0.119792  \n",
       "std       0.012176    3.636903    0.325567  \n",
       "min       0.081179    2.000000    0.000000  \n",
       "25%       0.092577    6.000000    0.000000  \n",
       "50%       0.104477    8.000000    0.000000  \n",
       "75%       0.114056   12.000000    0.000000  \n",
       "max       0.133027   17.000000    1.000000  "
      ]
     },
     "execution_count": 4,
     "metadata": {},
     "output_type": "execute_result"
    }
   ],
   "source": [
    "df.describe()"
   ]
  },
  {
   "cell_type": "code",
   "execution_count": 5,
   "metadata": {},
   "outputs": [
    {
     "data": {
      "text/plain": [
       "(192, 8)"
      ]
     },
     "execution_count": 5,
     "metadata": {},
     "output_type": "execute_result"
    }
   ],
   "source": [
    "df.shape"
   ]
  },
  {
   "cell_type": "markdown",
   "metadata": {},
   "source": [
    "Como la tarea principal del conjunto de datos se centrará en el antes y el después de la introducción de la legislación sobre el cinturón de seguridad, es conveniente dividir el conjunto de datos en dos: \n",
    "* uno de antes de la legislación (etiquetado como law=0)\n",
    "* y uno de después de la legislación (etiquetado como law=1)"
   ]
  },
  {
   "cell_type": "markdown",
   "metadata": {},
   "source": [
    "Así pues, primero cuántos datos hay en cada uno de estos conjuntos."
   ]
  },
  {
   "cell_type": "code",
   "execution_count": 6,
   "metadata": {},
   "outputs": [
    {
     "name": "stdout",
     "output_type": "stream",
     "text": [
      "law\n",
      "0    169\n",
      "1     23\n",
      "dtype: int64\n"
     ]
    }
   ],
   "source": [
    "print(df.groupby('law').size())"
   ]
  },
  {
   "cell_type": "code",
   "execution_count": 7,
   "metadata": {},
   "outputs": [
    {
     "data": {
      "text/plain": [
       "<AxesSubplot:>"
      ]
     },
     "execution_count": 7,
     "metadata": {},
     "output_type": "execute_result"
    },
    {
     "data": {
      "image/png": "[encoded data removed]",
      "text/plain": [
       "<Figure size 432x288 with 1 Axes>"
      ]
     },
     "metadata": {
      "needs_background": "light"
     },
     "output_type": "display_data"
    }
   ],
   "source": [
    "df['law'].value_counts().plot(kind='barh')"
   ]
  },
  {
   "cell_type": "markdown",
   "metadata": {},
   "source": [
    "Y luego separamos los datos en dos dataframes distintos."
   ]
  },
  {
   "cell_type": "code",
   "execution_count": 8,
   "metadata": {},
   "outputs": [],
   "source": [
    "sinley = df.loc[df['law'] == 0] # Con un tamaño de 169 entradas."
   ]
  },
  {
   "cell_type": "code",
   "execution_count": 9,
   "metadata": {},
   "outputs": [
    {
     "data": {
      "text/html": [
       "<div>\n",
       "<style scoped>\n",
       "    .dataframe tbody tr th:only-of-type {\n",
       "        vertical-align: middle;\n",
       "    }\n",
       "\n",
       "    .dataframe tbody tr th {\n",
       "        vertical-align: top;\n",
       "    }\n",
       "\n",
       "    .dataframe thead th {\n",
       "        text-align: right;\n",
       "    }\n",
       "</style>\n",
       "<table border=\"1\" class=\"dataframe\">\n",
       "  <thead>\n",
       "    <tr style=\"text-align: right;\">\n",
       "      <th></th>\n",
       "      <th>DriversKilled</th>\n",
       "      <th>drivers</th>\n",
       "      <th>front</th>\n",
       "      <th>rear</th>\n",
       "      <th>kms</th>\n",
       "      <th>PetrolPrice</th>\n",
       "      <th>VanKilled</th>\n",
       "      <th>law</th>\n",
       "    </tr>\n",
       "  </thead>\n",
       "  <tbody>\n",
       "    <tr>\n",
       "      <th>0</th>\n",
       "      <td>107</td>\n",
       "      <td>1687</td>\n",
       "      <td>867</td>\n",
       "      <td>269</td>\n",
       "      <td>9059</td>\n",
       "      <td>0.102972</td>\n",
       "      <td>12</td>\n",
       "      <td>0</td>\n",
       "    </tr>\n",
       "    <tr>\n",
       "      <th>1</th>\n",
       "      <td>97</td>\n",
       "      <td>1508</td>\n",
       "      <td>825</td>\n",
       "      <td>265</td>\n",
       "      <td>7685</td>\n",
       "      <td>0.102363</td>\n",
       "      <td>6</td>\n",
       "      <td>0</td>\n",
       "    </tr>\n",
       "    <tr>\n",
       "      <th>2</th>\n",
       "      <td>102</td>\n",
       "      <td>1507</td>\n",
       "      <td>806</td>\n",
       "      <td>319</td>\n",
       "      <td>9963</td>\n",
       "      <td>0.102062</td>\n",
       "      <td>12</td>\n",
       "      <td>0</td>\n",
       "    </tr>\n",
       "    <tr>\n",
       "      <th>3</th>\n",
       "      <td>87</td>\n",
       "      <td>1385</td>\n",
       "      <td>814</td>\n",
       "      <td>407</td>\n",
       "      <td>10955</td>\n",
       "      <td>0.100873</td>\n",
       "      <td>8</td>\n",
       "      <td>0</td>\n",
       "    </tr>\n",
       "    <tr>\n",
       "      <th>4</th>\n",
       "      <td>119</td>\n",
       "      <td>1632</td>\n",
       "      <td>991</td>\n",
       "      <td>454</td>\n",
       "      <td>11823</td>\n",
       "      <td>0.101020</td>\n",
       "      <td>10</td>\n",
       "      <td>0</td>\n",
       "    </tr>\n",
       "  </tbody>\n",
       "</table>\n",
       "</div>"
      ],
      "text/plain": [
       "   DriversKilled  drivers  front  rear    kms  PetrolPrice  VanKilled  law\n",
       "0            107     1687    867   269   9059     0.102972         12    0\n",
       "1             97     1508    825   265   7685     0.102363          6    0\n",
       "2            102     1507    806   319   9963     0.102062         12    0\n",
       "3             87     1385    814   407  10955     0.100873          8    0\n",
       "4            119     1632    991   454  11823     0.101020         10    0"
      ]
     },
     "execution_count": 9,
     "metadata": {},
     "output_type": "execute_result"
    }
   ],
   "source": [
    "sinley.head(5)"
   ]
  },
  {
   "cell_type": "code",
   "execution_count": 10,
   "metadata": {},
   "outputs": [],
   "source": [
    "conley = df.loc[df['law'] == 1] # Con un tamaño de 23 entradas."
   ]
  },
  {
   "cell_type": "code",
   "execution_count": 11,
   "metadata": {},
   "outputs": [
    {
     "data": {
      "text/html": [
       "<div>\n",
       "<style scoped>\n",
       "    .dataframe tbody tr th:only-of-type {\n",
       "        vertical-align: middle;\n",
       "    }\n",
       "\n",
       "    .dataframe tbody tr th {\n",
       "        vertical-align: top;\n",
       "    }\n",
       "\n",
       "    .dataframe thead th {\n",
       "        text-align: right;\n",
       "    }\n",
       "</style>\n",
       "<table border=\"1\" class=\"dataframe\">\n",
       "  <thead>\n",
       "    <tr style=\"text-align: right;\">\n",
       "      <th></th>\n",
       "      <th>DriversKilled</th>\n",
       "      <th>drivers</th>\n",
       "      <th>front</th>\n",
       "      <th>rear</th>\n",
       "      <th>kms</th>\n",
       "      <th>PetrolPrice</th>\n",
       "      <th>VanKilled</th>\n",
       "      <th>law</th>\n",
       "    </tr>\n",
       "  </thead>\n",
       "  <tbody>\n",
       "    <tr>\n",
       "      <th>169</th>\n",
       "      <td>95</td>\n",
       "      <td>1057</td>\n",
       "      <td>426</td>\n",
       "      <td>300</td>\n",
       "      <td>15511</td>\n",
       "      <td>0.113657</td>\n",
       "      <td>3</td>\n",
       "      <td>1</td>\n",
       "    </tr>\n",
       "    <tr>\n",
       "      <th>170</th>\n",
       "      <td>100</td>\n",
       "      <td>1218</td>\n",
       "      <td>475</td>\n",
       "      <td>318</td>\n",
       "      <td>18308</td>\n",
       "      <td>0.113144</td>\n",
       "      <td>2</td>\n",
       "      <td>1</td>\n",
       "    </tr>\n",
       "    <tr>\n",
       "      <th>171</th>\n",
       "      <td>89</td>\n",
       "      <td>1168</td>\n",
       "      <td>556</td>\n",
       "      <td>391</td>\n",
       "      <td>17793</td>\n",
       "      <td>0.118496</td>\n",
       "      <td>6</td>\n",
       "      <td>1</td>\n",
       "    </tr>\n",
       "    <tr>\n",
       "      <th>172</th>\n",
       "      <td>82</td>\n",
       "      <td>1236</td>\n",
       "      <td>559</td>\n",
       "      <td>398</td>\n",
       "      <td>19205</td>\n",
       "      <td>0.117969</td>\n",
       "      <td>3</td>\n",
       "      <td>1</td>\n",
       "    </tr>\n",
       "    <tr>\n",
       "      <th>173</th>\n",
       "      <td>89</td>\n",
       "      <td>1076</td>\n",
       "      <td>483</td>\n",
       "      <td>337</td>\n",
       "      <td>19162</td>\n",
       "      <td>0.117687</td>\n",
       "      <td>7</td>\n",
       "      <td>1</td>\n",
       "    </tr>\n",
       "  </tbody>\n",
       "</table>\n",
       "</div>"
      ],
      "text/plain": [
       "     DriversKilled  drivers  front  rear    kms  PetrolPrice  VanKilled  law\n",
       "169             95     1057    426   300  15511     0.113657          3    1\n",
       "170            100     1218    475   318  18308     0.113144          2    1\n",
       "171             89     1168    556   391  17793     0.118496          6    1\n",
       "172             82     1236    559   398  19205     0.117969          3    1\n",
       "173             89     1076    483   337  19162     0.117687          7    1"
      ]
     },
     "execution_count": 11,
     "metadata": {},
     "output_type": "execute_result"
    }
   ],
   "source": [
    "conley.head(5)"
   ]
  },
  {
   "cell_type": "markdown",
   "metadata": {},
   "source": [
    "Ahora, veamos la proporción de conductores fallecidos antes y después de que usar cinturón de seguridad fuera ley. "
   ]
  },
  {
   "cell_type": "markdown",
   "metadata": {},
   "source": [
    "* Pasajeros al frente y detrás."
   ]
  },
  {
   "cell_type": "code",
   "execution_count": 12,
   "metadata": {},
   "outputs": [
    {
     "data": {
      "text/plain": [
       "0.7415363417154668"
      ]
     },
     "execution_count": 12,
     "metadata": {},
     "output_type": "execute_result"
    }
   ],
   "source": [
    "(sinley['front'].sum()+sinley['rear'].sum())/sinley['drivers'].sum() "
   ]
  },
  {
   "cell_type": "code",
   "execution_count": 13,
   "metadata": {},
   "outputs": [
    {
     "data": {
      "text/plain": [
       "0.6169939800651337"
      ]
     },
     "execution_count": 13,
     "metadata": {},
     "output_type": "execute_result"
    }
   ],
   "source": [
    "(conley['rear'].sum()+conley['rear'].sum())/conley['drivers'].sum() "
   ]
  },
  {
   "cell_type": "markdown",
   "metadata": {},
   "source": [
    "* Pasajeros al frente"
   ]
  },
  {
   "cell_type": "code",
   "execution_count": 14,
   "metadata": {},
   "outputs": [
    {
     "data": {
      "text/plain": [
       "0.5084877712710989"
      ]
     },
     "execution_count": 14,
     "metadata": {},
     "output_type": "execute_result"
    }
   ],
   "source": [
    "sinley['front'].sum()/sinley['drivers'].sum()"
   ]
  },
  {
   "cell_type": "code",
   "execution_count": 15,
   "metadata": {},
   "outputs": [
    {
     "data": {
      "text/plain": [
       "0.43198789433862955"
      ]
     },
     "execution_count": 15,
     "metadata": {},
     "output_type": "execute_result"
    }
   ],
   "source": [
    "conley['front'].sum()/conley['drivers'].sum()"
   ]
  },
  {
   "cell_type": "markdown",
   "metadata": {},
   "source": [
    "* Pasajeros detrás"
   ]
  },
  {
   "cell_type": "code",
   "execution_count": 16,
   "metadata": {},
   "outputs": [
    {
     "data": {
      "text/plain": [
       "0.2330485704443679"
      ]
     },
     "execution_count": 16,
     "metadata": {},
     "output_type": "execute_result"
    }
   ],
   "source": [
    "sinley['rear'].sum()/sinley['drivers'].sum()"
   ]
  },
  {
   "cell_type": "code",
   "execution_count": 17,
   "metadata": {},
   "outputs": [
    {
     "data": {
      "text/plain": [
       "0.30849699003256686"
      ]
     },
     "execution_count": 17,
     "metadata": {},
     "output_type": "execute_result"
    }
   ],
   "source": [
    "conley['rear'].sum()/conley['drivers'].sum()"
   ]
  },
  {
   "cell_type": "markdown",
   "metadata": {},
   "source": [
    "Por lo tanto, podemos concluir que afectivamente disminuyó el número de muertes en accidentes gracias a la legislación que se aprobó."
   ]
  },
  {
   "cell_type": "markdown",
   "metadata": {},
   "source": [
    "Podemos notar además que la probabilidad de morir siendo pasajero detrás aumentó con la legislación."
   ]
  },
  {
   "cell_type": "markdown",
   "metadata": {},
   "source": [
    "Por otro lado, para calcular la correlación y la regresión lineal entre dos factores se utilizó el conjunto de datos **sinley** (pues tiene la mayor cantidad de entradas), esto para que los datos no estuvieran sesgados por los diferentes factores."
   ]
  },
  {
   "cell_type": "markdown",
   "metadata": {},
   "source": [
    "### Correlaciones"
   ]
  },
  {
   "cell_type": "markdown",
   "metadata": {},
   "source": [
    "* Kilometraje vs Precio del Petróleo"
   ]
  },
  {
   "cell_type": "code",
   "execution_count": 18,
   "metadata": {},
   "outputs": [
    {
     "data": {
      "text/plain": [
       "0.2454145513640142"
      ]
     },
     "execution_count": 18,
     "metadata": {},
     "output_type": "execute_result"
    }
   ],
   "source": [
    "sinley['kms'].corr(sinley['PetrolPrice'])"
   ]
  },
  {
   "cell_type": "code",
   "execution_count": 19,
   "metadata": {},
   "outputs": [
    {
     "data": {
      "text/plain": [
       "<function matplotlib.pyplot.show(close=None, block=None)>"
      ]
     },
     "execution_count": 19,
     "metadata": {},
     "output_type": "execute_result"
    },
    {
     "data": {
      "image/png": "[encoded data removed]",
      "text/plain": [
       "<Figure size 432x288 with 1 Axes>"
      ]
     },
     "metadata": {
      "needs_background": "light"
     },
     "output_type": "display_data"
    }
   ],
   "source": [
    "sinley.plot(x='kms', y='PetrolPrice',style='o')\n",
    "plt.xlabel('kms')\n",
    "plt.ylabel('PetrolPrice')\n",
    "plt.show"
   ]
  },
  {
   "cell_type": "markdown",
   "metadata": {},
   "source": [
    "Donde, a pesar de esperar que la correlación fuera negativa (pues a \n",
    "        mayor precio de la gasolina, menos distancia se recorrería); se obtuvo \n",
    "        un valor positivo."
   ]
  },
  {
   "cell_type": "markdown",
   "metadata": {},
   "source": [
    "* Pasajeros al frente y números de fallecidos"
   ]
  },
  {
   "cell_type": "code",
   "execution_count": 20,
   "metadata": {},
   "outputs": [
    {
     "data": {
      "text/plain": [
       "0.680838498476919"
      ]
     },
     "execution_count": 20,
     "metadata": {},
     "output_type": "execute_result"
    }
   ],
   "source": [
    "sinley['front'].corr(sinley['DriversKilled'])"
   ]
  },
  {
   "cell_type": "code",
   "execution_count": 21,
   "metadata": {},
   "outputs": [
    {
     "data": {
      "text/plain": [
       "<function matplotlib.pyplot.show(close=None, block=None)>"
      ]
     },
     "execution_count": 21,
     "metadata": {},
     "output_type": "execute_result"
    },
    {
     "data": {
      "image/png": "[encoded data removed]",
      "text/plain": [
       "<Figure size 432x288 with 1 Axes>"
      ]
     },
     "metadata": {
      "needs_background": "light"
     },
     "output_type": "display_data"
    }
   ],
   "source": [
    "sinley.plot(x='front', y='DriversKilled',style='o')\n",
    "plt.xlabel('front')\n",
    "plt.ylabel('DriversKilled')\n",
    "plt.show"
   ]
  },
  {
   "cell_type": "markdown",
   "metadata": {},
   "source": [
    "* Pasajeros en los asientos traseros vs Números de fallecidos"
   ]
  },
  {
   "cell_type": "code",
   "execution_count": 22,
   "metadata": {},
   "outputs": [
    {
     "data": {
      "text/plain": [
       "0.39819152226684645"
      ]
     },
     "execution_count": 22,
     "metadata": {},
     "output_type": "execute_result"
    }
   ],
   "source": [
    "sinley['rear'].corr(sinley['DriversKilled'])"
   ]
  },
  {
   "cell_type": "code",
   "execution_count": 23,
   "metadata": {},
   "outputs": [
    {
     "data": {
      "text/plain": [
       "<function matplotlib.pyplot.show(close=None, block=None)>"
      ]
     },
     "execution_count": 23,
     "metadata": {},
     "output_type": "execute_result"
    },
    {
     "data": {
      "image/png": "[encoded data removed]",
      "text/plain": [
       "<Figure size 432x288 with 1 Axes>"
      ]
     },
     "metadata": {
      "needs_background": "light"
     },
     "output_type": "display_data"
    }
   ],
   "source": [
    "sinley.plot(x='rear', y='DriversKilled',style='o')\n",
    "plt.xlabel('rear')\n",
    "plt.ylabel('DriversKilled')\n",
    "plt.show"
   ]
  },
  {
   "cell_type": "markdown",
   "metadata": {},
   "source": [
    "* Kilometraje vs Números de fallecidos."
   ]
  },
  {
   "cell_type": "code",
   "execution_count": 24,
   "metadata": {},
   "outputs": [
    {
     "data": {
      "text/plain": [
       "-0.1914246520972008"
      ]
     },
     "execution_count": 24,
     "metadata": {},
     "output_type": "execute_result"
    }
   ],
   "source": [
    "sinley['kms'].corr(sinley['DriversKilled'])"
   ]
  },
  {
   "cell_type": "code",
   "execution_count": 25,
   "metadata": {},
   "outputs": [
    {
     "data": {
      "text/plain": [
       "<function matplotlib.pyplot.show(close=None, block=None)>"
      ]
     },
     "execution_count": 25,
     "metadata": {},
     "output_type": "execute_result"
    },
    {
     "data": {
      "image/png": "[encoded data removed]",
      "text/plain": [
       "<Figure size 432x288 with 1 Axes>"
      ]
     },
     "metadata": {
      "needs_background": "light"
     },
     "output_type": "display_data"
    }
   ],
   "source": [
    "sinley.plot(x='kms', y='DriversKilled',style='o')\n",
    "plt.xlabel('kms')\n",
    "plt.ylabel('DriversKilled')\n",
    "plt.show"
   ]
  },
  {
   "cell_type": "markdown",
   "metadata": {},
   "source": [
    "* Precio de la gasolina vs Números de fallecidos."
   ]
  },
  {
   "cell_type": "code",
   "execution_count": 26,
   "metadata": {},
   "outputs": [
    {
     "data": {
      "text/plain": [
       "-0.3120898696115776"
      ]
     },
     "execution_count": 26,
     "metadata": {},
     "output_type": "execute_result"
    }
   ],
   "source": [
    "sinley['PetrolPrice'].corr(sinley['DriversKilled'])"
   ]
  },
  {
   "cell_type": "code",
   "execution_count": 27,
   "metadata": {},
   "outputs": [
    {
     "data": {
      "text/plain": [
       "<function matplotlib.pyplot.show(close=None, block=None)>"
      ]
     },
     "execution_count": 27,
     "metadata": {},
     "output_type": "execute_result"
    },
    {
     "data": {
      "image/png": "[encoded data removed]",
      "text/plain": [
       "<Figure size 432x288 with 1 Axes>"
      ]
     },
     "metadata": {
      "needs_background": "light"
     },
     "output_type": "display_data"
    }
   ],
   "source": [
    "sinley.plot(x='PetrolPrice', y='DriversKilled',style='o')\n",
    "plt.xlabel('PetrolPrice')\n",
    "plt.ylabel('DriversKilled')\n",
    "plt.show"
   ]
  },
  {
   "cell_type": "markdown",
   "metadata": {},
   "source": [
    "* Conductores de furgonetas vs Números de fallecidos"
   ]
  },
  {
   "cell_type": "code",
   "execution_count": 28,
   "metadata": {},
   "outputs": [
    {
     "data": {
      "text/plain": [
       "0.3382807387324673"
      ]
     },
     "execution_count": 28,
     "metadata": {},
     "output_type": "execute_result"
    }
   ],
   "source": [
    "sinley['VanKilled'].corr(sinley['DriversKilled'])"
   ]
  },
  {
   "cell_type": "code",
   "execution_count": 29,
   "metadata": {},
   "outputs": [
    {
     "data": {
      "text/plain": [
       "<function matplotlib.pyplot.show(close=None, block=None)>"
      ]
     },
     "execution_count": 29,
     "metadata": {},
     "output_type": "execute_result"
    },
    {
     "data": {
      "image/png": "[encoded data removed]",
      "text/plain": [
       "<Figure size 432x288 with 1 Axes>"
      ]
     },
     "metadata": {
      "needs_background": "light"
     },
     "output_type": "display_data"
    }
   ],
   "source": [
    "sinley.plot(x='VanKilled', y='DriversKilled',style='o')\n",
    "plt.xlabel('VanKilled')\n",
    "plt.ylabel('DriversKilled')\n",
    "plt.show"
   ]
  },
  {
   "cell_type": "markdown",
   "metadata": {},
   "source": []
  },
  {
   "cell_type": "markdown",
   "metadata": {},
   "source": [
    "Notemos que las variables independientes parecen ser Kms, PetrolPrice, Front y Rear, mientras que la variable dependiente será DriversKilled."
   ]
  },
  {
   "cell_type": "markdown",
   "metadata": {},
   "source": [
    "### Modelo"
   ]
  },
  {
   "cell_type": "markdown",
   "metadata": {},
   "source": [
    "* Usamos regresión lineal múltiple."
   ]
  },
  {
   "cell_type": "code",
   "execution_count": 30,
   "metadata": {},
   "outputs": [],
   "source": [
    "X = sinley[['front', 'rear', 'kms', 'PetrolPrice']] \n",
    "y = sinley['DriversKilled']"
   ]
  },
  {
   "cell_type": "code",
   "execution_count": 31,
   "metadata": {},
   "outputs": [],
   "source": [
    "X_train, X_test, y_train, y_test = train_test_split(X, y, test_size=0.2, random_state=42)"
   ]
  },
  {
   "cell_type": "markdown",
   "metadata": {},
   "source": [
    "Creamos el modelo y lo entrenamos."
   ]
  },
  {
   "cell_type": "code",
   "execution_count": 32,
   "metadata": {},
   "outputs": [
    {
     "data": {
      "text/plain": [
       "LinearRegression()"
      ]
     },
     "execution_count": 32,
     "metadata": {},
     "output_type": "execute_result"
    }
   ],
   "source": [
    "# Creamos el modelo.\n",
    "linearegression = LinearRegression()\n",
    "# Entrenamos nuestro modelo.\n",
    "linearegression.fit(X_train, y_train)"
   ]
  },
  {
   "cell_type": "code",
   "execution_count": 33,
   "metadata": {},
   "outputs": [],
   "source": [
    "coef_df = pd.DataFrame(linearegression .coef_, X.columns, columns=['Coefficient'])"
   ]
  },
  {
   "cell_type": "code",
   "execution_count": 34,
   "metadata": {},
   "outputs": [
    {
     "data": {
      "text/html": [
       "<div>\n",
       "<style scoped>\n",
       "    .dataframe tbody tr th:only-of-type {\n",
       "        vertical-align: middle;\n",
       "    }\n",
       "\n",
       "    .dataframe tbody tr th {\n",
       "        vertical-align: top;\n",
       "    }\n",
       "\n",
       "    .dataframe thead th {\n",
       "        text-align: right;\n",
       "    }\n",
       "</style>\n",
       "<table border=\"1\" class=\"dataframe\">\n",
       "  <thead>\n",
       "    <tr style=\"text-align: right;\">\n",
       "      <th></th>\n",
       "      <th>Coefficient</th>\n",
       "    </tr>\n",
       "  </thead>\n",
       "  <tbody>\n",
       "    <tr>\n",
       "      <th>front</th>\n",
       "      <td>0.170932</td>\n",
       "    </tr>\n",
       "    <tr>\n",
       "      <th>rear</th>\n",
       "      <td>-0.107635</td>\n",
       "    </tr>\n",
       "    <tr>\n",
       "      <th>kms</th>\n",
       "      <td>0.000775</td>\n",
       "    </tr>\n",
       "    <tr>\n",
       "      <th>PetrolPrice</th>\n",
       "      <td>117.617962</td>\n",
       "    </tr>\n",
       "  </tbody>\n",
       "</table>\n",
       "</div>"
      ],
      "text/plain": [
       "             Coefficient\n",
       "front           0.170932\n",
       "rear           -0.107635\n",
       "kms             0.000775\n",
       "PetrolPrice   117.617962"
      ]
     },
     "execution_count": 34,
     "metadata": {},
     "output_type": "execute_result"
    }
   ],
   "source": [
    "coef_df"
   ]
  },
  {
   "cell_type": "markdown",
   "metadata": {},
   "source": [
    "Esto significa que, \n",
    " * Cuando DriverKilled incrementa una unidad, entonces front incrementa $0.170932$ unidades.\n",
    "\n",
    " * Cuando DriverKilled incrementa una unidad, entonces rear disminuye $-0.107635$ unidades.\n",
    "\n",
    " * Cuando DriverKilled incrementa una unidad, entonces kms incrementa $0.000775$ unidades.\n",
    "\n",
    " * Cuando DriverKilled incrementa una unidad, entonces PetrolPrice incrementa $117.617962$ unidades."
   ]
  },
  {
   "cell_type": "code",
   "execution_count": 35,
   "metadata": {},
   "outputs": [
    {
     "name": "stdout",
     "output_type": "stream",
     "text": [
      "Coefficients: \n",
      " [ 1.70931674e-01 -1.07634662e-01  7.75241740e-04  1.17617962e+02]\n",
      "Independent term: \n",
      " -3.1781268153861646\n"
     ]
    }
   ],
   "source": [
    "# Veamos los coeficienetes obtenidos, En nuestro caso, serán la Tangente\n",
    "print('Coefficients: \\n', linearegression .coef_)\n",
    "# Este es el valor donde corta el eje Y (en X=0)\n",
    "print('Independent term: \\n', linearegression .intercept_)"
   ]
  },
  {
   "cell_type": "markdown",
   "metadata": {},
   "source": [
    "### Predicciones y resultados"
   ]
  },
  {
   "cell_type": "code",
   "execution_count": 36,
   "metadata": {},
   "outputs": [],
   "source": [
    "# Realizamos predicciones usando el conjunto de prueba.\n",
    "y_pred = linearegression.predict(X_test)"
   ]
  },
  {
   "cell_type": "code",
   "execution_count": 37,
   "metadata": {},
   "outputs": [
    {
     "data": {
      "text/plain": [
       "0.5037399894622504"
      ]
     },
     "execution_count": 37,
     "metadata": {},
     "output_type": "execute_result"
    }
   ],
   "source": [
    "linearegression.score(X, y)"
   ]
  },
  {
   "cell_type": "code",
   "execution_count": 38,
   "metadata": {},
   "outputs": [],
   "source": [
    "dfp = pd.DataFrame({'Actual': y_test, 'Predicted': y_pred})"
   ]
  },
  {
   "cell_type": "code",
   "execution_count": 39,
   "metadata": {},
   "outputs": [
    {
     "data": {
      "text/html": [
       "<div>\n",
       "<style scoped>\n",
       "    .dataframe tbody tr th:only-of-type {\n",
       "        vertical-align: middle;\n",
       "    }\n",
       "\n",
       "    .dataframe tbody tr th {\n",
       "        vertical-align: top;\n",
       "    }\n",
       "\n",
       "    .dataframe thead th {\n",
       "        text-align: right;\n",
       "    }\n",
       "</style>\n",
       "<table border=\"1\" class=\"dataframe\">\n",
       "  <thead>\n",
       "    <tr style=\"text-align: right;\">\n",
       "      <th></th>\n",
       "      <th>Actual</th>\n",
       "      <th>Predicted</th>\n",
       "    </tr>\n",
       "  </thead>\n",
       "  <tbody>\n",
       "    <tr>\n",
       "      <th>138</th>\n",
       "      <td>102</td>\n",
       "      <td>118.157880</td>\n",
       "    </tr>\n",
       "    <tr>\n",
       "      <th>30</th>\n",
       "      <td>130</td>\n",
       "      <td>149.698408</td>\n",
       "    </tr>\n",
       "    <tr>\n",
       "      <th>119</th>\n",
       "      <td>178</td>\n",
       "      <td>148.096824</td>\n",
       "    </tr>\n",
       "    <tr>\n",
       "      <th>29</th>\n",
       "      <td>148</td>\n",
       "      <td>136.896331</td>\n",
       "    </tr>\n",
       "    <tr>\n",
       "      <th>143</th>\n",
       "      <td>137</td>\n",
       "      <td>134.645197</td>\n",
       "    </tr>\n",
       "    <tr>\n",
       "      <th>162</th>\n",
       "      <td>122</td>\n",
       "      <td>121.154351</td>\n",
       "    </tr>\n",
       "    <tr>\n",
       "      <th>165</th>\n",
       "      <td>137</td>\n",
       "      <td>136.965789</td>\n",
       "    </tr>\n",
       "    <tr>\n",
       "      <th>51</th>\n",
       "      <td>131</td>\n",
       "      <td>157.444694</td>\n",
       "    </tr>\n",
       "    <tr>\n",
       "      <th>105</th>\n",
       "      <td>140</td>\n",
       "      <td>119.056342</td>\n",
       "    </tr>\n",
       "    <tr>\n",
       "      <th>60</th>\n",
       "      <td>113</td>\n",
       "      <td>113.445734</td>\n",
       "    </tr>\n",
       "    <tr>\n",
       "      <th>15</th>\n",
       "      <td>102</td>\n",
       "      <td>130.249461</td>\n",
       "    </tr>\n",
       "    <tr>\n",
       "      <th>157</th>\n",
       "      <td>104</td>\n",
       "      <td>106.040791</td>\n",
       "    </tr>\n",
       "    <tr>\n",
       "      <th>133</th>\n",
       "      <td>95</td>\n",
       "      <td>93.698940</td>\n",
       "    </tr>\n",
       "    <tr>\n",
       "      <th>45</th>\n",
       "      <td>170</td>\n",
       "      <td>152.560420</td>\n",
       "    </tr>\n",
       "    <tr>\n",
       "      <th>68</th>\n",
       "      <td>144</td>\n",
       "      <td>155.337627</td>\n",
       "    </tr>\n",
       "    <tr>\n",
       "      <th>85</th>\n",
       "      <td>127</td>\n",
       "      <td>102.610783</td>\n",
       "    </tr>\n",
       "    <tr>\n",
       "      <th>24</th>\n",
       "      <td>134</td>\n",
       "      <td>139.199952</td>\n",
       "    </tr>\n",
       "    <tr>\n",
       "      <th>109</th>\n",
       "      <td>111</td>\n",
       "      <td>96.307291</td>\n",
       "    </tr>\n",
       "    <tr>\n",
       "      <th>75</th>\n",
       "      <td>95</td>\n",
       "      <td>99.615048</td>\n",
       "    </tr>\n",
       "    <tr>\n",
       "      <th>108</th>\n",
       "      <td>148</td>\n",
       "      <td>129.391218</td>\n",
       "    </tr>\n",
       "    <tr>\n",
       "      <th>19</th>\n",
       "      <td>129</td>\n",
       "      <td>156.120114</td>\n",
       "    </tr>\n",
       "    <tr>\n",
       "      <th>16</th>\n",
       "      <td>103</td>\n",
       "      <td>135.311348</td>\n",
       "    </tr>\n",
       "    <tr>\n",
       "      <th>31</th>\n",
       "      <td>140</td>\n",
       "      <td>154.101106</td>\n",
       "    </tr>\n",
       "    <tr>\n",
       "      <th>18</th>\n",
       "      <td>120</td>\n",
       "      <td>146.972771</td>\n",
       "    </tr>\n",
       "    <tr>\n",
       "      <th>12</th>\n",
       "      <td>125</td>\n",
       "      <td>139.910783</td>\n",
       "    </tr>\n",
       "    <tr>\n",
       "      <th>9</th>\n",
       "      <td>134</td>\n",
       "      <td>116.011253</td>\n",
       "    </tr>\n",
       "    <tr>\n",
       "      <th>82</th>\n",
       "      <td>158</td>\n",
       "      <td>124.541770</td>\n",
       "    </tr>\n",
       "    <tr>\n",
       "      <th>98</th>\n",
       "      <td>82</td>\n",
       "      <td>95.991882</td>\n",
       "    </tr>\n",
       "    <tr>\n",
       "      <th>76</th>\n",
       "      <td>96</td>\n",
       "      <td>110.034748</td>\n",
       "    </tr>\n",
       "    <tr>\n",
       "      <th>55</th>\n",
       "      <td>140</td>\n",
       "      <td>144.650435</td>\n",
       "    </tr>\n",
       "    <tr>\n",
       "      <th>42</th>\n",
       "      <td>138</td>\n",
       "      <td>162.569314</td>\n",
       "    </tr>\n",
       "    <tr>\n",
       "      <th>56</th>\n",
       "      <td>161</td>\n",
       "      <td>148.531245</td>\n",
       "    </tr>\n",
       "    <tr>\n",
       "      <th>153</th>\n",
       "      <td>153</td>\n",
       "      <td>134.364855</td>\n",
       "    </tr>\n",
       "    <tr>\n",
       "      <th>111</th>\n",
       "      <td>115</td>\n",
       "      <td>113.112868</td>\n",
       "    </tr>\n",
       "  </tbody>\n",
       "</table>\n",
       "</div>"
      ],
      "text/plain": [
       "     Actual   Predicted\n",
       "138     102  118.157880\n",
       "30      130  149.698408\n",
       "119     178  148.096824\n",
       "29      148  136.896331\n",
       "143     137  134.645197\n",
       "162     122  121.154351\n",
       "165     137  136.965789\n",
       "51      131  157.444694\n",
       "105     140  119.056342\n",
       "60      113  113.445734\n",
       "15      102  130.249461\n",
       "157     104  106.040791\n",
       "133      95   93.698940\n",
       "45      170  152.560420\n",
       "68      144  155.337627\n",
       "85      127  102.610783\n",
       "24      134  139.199952\n",
       "109     111   96.307291\n",
       "75       95   99.615048\n",
       "108     148  129.391218\n",
       "19      129  156.120114\n",
       "16      103  135.311348\n",
       "31      140  154.101106\n",
       "18      120  146.972771\n",
       "12      125  139.910783\n",
       "9       134  116.011253\n",
       "82      158  124.541770\n",
       "98       82   95.991882\n",
       "76       96  110.034748\n",
       "55      140  144.650435\n",
       "42      138  162.569314\n",
       "56      161  148.531245\n",
       "153     153  134.364855\n",
       "111     115  113.112868"
      ]
     },
     "execution_count": 39,
     "metadata": {},
     "output_type": "execute_result"
    }
   ],
   "source": [
    "dfp"
   ]
  },
  {
   "cell_type": "markdown",
   "metadata": {},
   "source": [
    "y observamos la presión de nuestro modelo"
   ]
  },
  {
   "cell_type": "code",
   "execution_count": 40,
   "metadata": {},
   "outputs": [
    {
     "name": "stdout",
     "output_type": "stream",
     "text": [
      "Mean Absolute Error: 15.09\n",
      "Mean squared error: 327.90\n",
      "Root Mean Squared Error: 18.11\n",
      "Variance score: 0.36\n"
     ]
    }
   ],
   "source": [
    "print(\"Mean Absolute Error: %.2f\" % mean_absolute_error(y_test, y_pred))\n",
    "# Error Cuadrado Medio\n",
    "print(\"Mean squared error: %.2f\" % mean_squared_error(y_test, y_pred))\n",
    "print(\"Root Mean Squared Error: %.2f\" % np.sqrt(mean_squared_error(y_test, y_pred)))\n",
    "# Puntaje de Varianza. El mejor puntaje es un 1.0\n",
    "print('Variance score: %.2f' % r2_score(y_test, y_pred))"
   ]
  },
  {
   "cell_type": "markdown",
   "metadata": {},
   "source": [
    "A partir de esto, podemos concluir que el modelo realiza predicciones \n",
    "    considerablemente buenas. "
   ]
  }
 ],
 "metadata": {
  "kernelspec": {
   "display_name": "Python 3",
   "language": "python",
   "name": "python3"
  },
  "language_info": {
   "codemirror_mode": {
    "name": "ipython",
    "version": 3
   },
   "file_extension": ".py",
   "mimetype": "text/x-python",
   "name": "python",
   "nbconvert_exporter": "python",
   "pygments_lexer": "ipython3",
   "version": "3.8.5"
  }
 },
 "nbformat": 4,
 "nbformat_minor": 4
}
